{
  "nbformat": 4,
  "nbformat_minor": 0,
  "metadata": {
    "colab": {
      "provenance": [],
      "authorship_tag": "ABX9TyMiFQp9rPv2yBrEMwzXvbk0",
      "include_colab_link": true
    },
    "kernelspec": {
      "name": "python3",
      "display_name": "Python 3"
    },
    "language_info": {
      "name": "python"
    }
  },
  "cells": [
    {
      "cell_type": "markdown",
      "metadata": {
        "id": "view-in-github",
        "colab_type": "text"
      },
      "source": [
        "<a href=\"https://colab.research.google.com/github/Saim-Hassan786/MCP-Model-Context-Protocol/blob/main/03-JSON-RPC/JSON_RPC.ipynb\" target=\"_parent\"><img src=\"https://colab.research.google.com/assets/colab-badge.svg\" alt=\"Open In Colab\"/></a>"
      ]
    },
    {
      "cell_type": "markdown",
      "source": [
        "# **Json-RPC**\n",
        "\n",
        "Json-RPC is a stateless Remote Procedure Call Protocol that allows for notifications and remote procedure calls on remote servers in a structure way.It uses Json(Javascript Object Notation) as the data format that makes it a universally used protocol highly scalable and efficient."
      ],
      "metadata": {
        "id": "wZiUrfbSYdCw"
      }
    },
    {
      "cell_type": "markdown",
      "source": [
        "# **Concepts Of Json-RPC**\n",
        "\n",
        "Following are the core concepts of Json-RPC\n",
        "\n",
        "1. **Request Object**\n",
        "\n",
        "   The clients sends a request object to the server that contains following members:\n",
        "\n",
        "   - **jsonrpc** : A string that contains json-rpc version which is \"2.0\"\n",
        "\n",
        "   - **method** : Method name that you want to invoke on the server end\n",
        "\n",
        "   - **params** : Parameters that are required for a methos , cam be empty if calling method does not require any parameters.\n",
        "\n",
        "   - **id** : A unique id sent by client against which the response is created.\n",
        "\n",
        "\n",
        "2. **Notifications**\n",
        "\n",
        "   The notifications are sent by the client when \"id\" is not sent in the Request object by the client , this means that it is telling the server that i do not want any response against this request , this is useful for sending events.\n",
        "\n",
        "3. **Parameters Structure**\n",
        "\n",
        "   The parameters can be in the same order they are set in the method on the server end but can also set against the name of the parameters in the methods on the server end.\n",
        "\n",
        "4. **Response Object**\n",
        "\n",
        "   A Response object is a must that has to returned by the server if it has received the Request object that response object consists of following members:\n",
        "\n",
        "   - **jsonrpc** : A string that contains json-rpc version which is \"2.0\"\n",
        "\n",
        "   - **result** : It contains the result of the called method on the server that is return in the form of result object , this field is must included in the response object if no error occured during the call.\n",
        "\n",
        "   - **error** : A error member is returned in the response object in case of error occured while processing the request , it consists of following fields:\n",
        "  \n",
        "     - code : A code indicating the error\n",
        "   \n",
        "     - message : A short descriptive message about the error\n",
        "\n",
        "     - data : A more detailed message containing info about the error\n",
        "\n",
        "     Most common error codes are :\n",
        "\n",
        "     a) -32700 : Parse Error\n",
        "\n",
        "     b) -32600 : invalid request\n",
        "\n",
        "     c) -32601 : method not found\n",
        "\n",
        "     d) -32602 : invalid parameter\n",
        "\n",
        "     e) -32603 : internal error\n",
        "\n",
        "     f) -32000 to -32099 : Server Error\n",
        "  \n",
        "   - **id** : The \"id\" same as the one received from the Request Object is return to the client.\n",
        "\n",
        "5. **Batch Requests**\n",
        "\n",
        "   A client can send an array of requests like multiple requests to the server for remote procedure call, server can process and return the results against the requests in any order, that can later be matched by matching the ids of request and response."
      ],
      "metadata": {
        "id": "94qmOdIZelhm"
      }
    },
    {
      "cell_type": "markdown",
      "source": [
        "# **Examples Of Json-RPC Working**\n",
        "\n",
        "# **RPC call with positional parameters:**\n",
        "\n",
        "**Client sends:**\n",
        "\n",
        "{\"jsonrpc\": \"2.0\", \"method\": \"subtract\", \"params\": [42, 23], \"id\": 1}\n",
        "\n",
        "\n",
        "**Server responds:**\n",
        "\n",
        "{\"jsonrpc\": \"2.0\", \"result\": 19, \"id\": 1}\n",
        "\n",
        "\n",
        "#**RPC call with named parameters:**\n",
        "\n",
        "**Client sends:**\n",
        "\n",
        "{\"jsonrpc\": \"2.0\", \"method\": \"subtract\", \"params\": {\"subtrahend\": 23, \"minuend\": 42}, \"id\": 3}\n",
        "\n",
        "\n",
        "**Server responds:**\n",
        "\n",
        "{\"jsonrpc\": \"2.0\", \"result\": 19, \"id\": 3}\n",
        "\n",
        "\n",
        "#**A notification:**\n",
        "\n",
        "**Client sends:**\n",
        "\n",
        "{\"jsonrpc\": \"2.0\", \"method\": \"update\", \"params\": [1, 2, 3, 4, 5]}\n",
        "\n",
        "**(No response from the server)**\n",
        "\n",
        "#**RPC call to a non-existent method:**\n",
        "\n",
        "**Client sends:**\n",
        "\n",
        "{\"jsonrpc\": \"2.0\", \"method\": \"foobar\", \"id\": \"1\"}\n",
        "\n",
        "**Server responds:**\n",
        "\n",
        "{\"jsonrpc\": \"2.0\", \"error\": {\"code\": -32601, \"message\": \"Method not found\"}, \"id\": \"1\"}\n"
      ],
      "metadata": {
        "id": "YOrPbfKZs7B4"
      }
    }
  ]
}