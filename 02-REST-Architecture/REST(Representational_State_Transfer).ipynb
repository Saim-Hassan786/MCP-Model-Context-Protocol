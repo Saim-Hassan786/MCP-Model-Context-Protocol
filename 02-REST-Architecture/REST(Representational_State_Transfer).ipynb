{
  "nbformat": 4,
  "nbformat_minor": 0,
  "metadata": {
    "colab": {
      "provenance": [],
      "authorship_tag": "ABX9TyOeQyFJ544WEpqC6Tf4BRm8",
      "include_colab_link": true
    },
    "kernelspec": {
      "name": "python3",
      "display_name": "Python 3"
    },
    "language_info": {
      "name": "python"
    }
  },
  "cells": [
    {
      "cell_type": "markdown",
      "metadata": {
        "id": "view-in-github",
        "colab_type": "text"
      },
      "source": [
        "<a href=\"https://colab.research.google.com/github/Saim-Hassan786/MCP-Model-Context-Protocol/blob/main/02-REST-Architecture/REST(Representational_State_Transfer).ipynb\" target=\"_parent\"><img src=\"https://colab.research.google.com/assets/colab-badge.svg\" alt=\"Open In Colab\"/></a>"
      ]
    },
    {
      "cell_type": "markdown",
      "source": [
        "# **REST**\n",
        "\n",
        "**Rest stands for Representational State Transfer , it can be regarded as a design pattern for making scalable and reliable web services. Rest concept is given by Roy Fielding in 2000 for determining the pattern of making scalable and efficient web applications over the World Wide Web.\n",
        "So In simple words, what we can say is Rest can be defined as not a protocol or a softeware but a set of predefined constraints or rules that helpus make reliable, efficient, scalable and powerful web application.**"
      ],
      "metadata": {
        "id": "aekufj684iuh"
      }
    },
    {
      "cell_type": "markdown",
      "source": [
        "# **Core Principles Of REST**\n",
        "**Following are the 6 core principles of REST Architecture**\n",
        "\n",
        "**1. Client-Server Architecture**\n",
        "\n",
        "This Involves the implementation of a separate client and server setup which each can be separately updatable and modifiable. Client sents a request to the server and the server responds it and the communication between them should not be affected by any updatation in each as long as the interface between them remains consistant , client is for fetching the data form the server and server is responsible for handling all the business logic both not related to each other.\n",
        "\n",
        "**2. Statelessness**\n",
        "\n",
        "This emphasis on the principle that each request from the client should contains all the required info for the server to process and server does not have to remember each previous request from the client but it should handle each request as a new one process it , then respond and forget, this enhances the scalability of the server to process multi requests as it does not has to remember each.\n",
        "\n",
        "**3. Cacheabilty**\n",
        "\n",
        "The server response must contain the info to tell the client whether to cache the data received from the server or not as if it dynamic or static so if server tell the client to cache it the data is saved on the client side and with new request instead of requesting the server again the cached data is loaded and shown to the user, this provides efficiency and reduces the load from the server.\n",
        "\n",
        "**4. Code On Demand**\n",
        "\n",
        "One of the least implemented principle of Rest that enables the client to send a Javascript code (executable) with the response that can be run on the client side and achieve a task rather then performing the fucntion again and again on the server side or to provide extra functionality to the client instead of updating it as a whole,but it reduces visibilty(the ability to cache data as it is not understood by the client) so least implemented\n",
        "\n",
        "**5. Layered System**\n",
        "\n",
        "This implies that the client does not have to know whether it is attached to the server end layer or any intermediatery layer like load-balancer or security layer and each layer could communicate with the adjacent layer and the layer architecture is established that contains powerful features like security, load-balancing etc.\n",
        "\n",
        "**6. Uniform Interface**\n",
        "\n",
        "Uniform interface implies that the client and server implimentation should be uniform in every way like below :-\n",
        "\n",
        " - **Identification Of Resources**\n",
        "\n",
        "   All the resources on the server should be identified by Uniform Resource Identifiers usually URLs, like the implementation of resources(data) on server should be achievable through the URLs.\n",
        "\n",
        " - **Manipulaton Of Resources Through Representation**\n",
        "\n",
        "   Data should be sent to the client in the form of the Representation of the Original data present on the server, Representation of data can be regarded as the snapshot of a resource present on the server at a particular time and this representaion should be enough for the client to modify or update resource on the server through the requested representational updatation or modification.\n",
        "\n",
        "  - **Self-Descriptive Messages**\n",
        "\n",
        "     All the messages requested or responded between the client and server should contain all the information required by the each to process it like it contains all the predefined structural rules like Methods,URIs,Versions,StatusCode etc to make cycle complete on both ends.\n",
        "\n",
        "  - **Hypermedia As The Engine of Application State (HATEOAS)**\n",
        "     \n",
        "     In this the client instead of knowing all the URLs or paths to navigate on server application on its own , the server sends in its response the links that could further help the client navigate and determine what it wants next, the client starts with a simple URLs and then guided on the way the server through links.\n"
      ],
      "metadata": {
        "id": "pbAOCLbw-35n"
      }
    },
    {
      "cell_type": "markdown",
      "source": [
        "# **Indempotence**\n",
        "\n",
        "Indempotence is a operation in which every identical requests produces the same result as the first (request) one.\n",
        "\n",
        "**Get,Put,Delete,Options,Head**  all of these operations are indempotent like they produce same result with identical requests\n",
        "\n",
        "**Post** is not indempotent and it creates new resource each time.\n",
        "\n",
        "**Patch** can be indempotent if applied conditional and can also be non-indempotent based on the scenerio implemented."
      ],
      "metadata": {
        "id": "Zbzjplo9Ll6_"
      }
    },
    {
      "cell_type": "markdown",
      "source": [
        "# **Implementation Rest APIs**"
      ],
      "metadata": {
        "id": "RQEF_decPR__"
      }
    },
    {
      "cell_type": "code",
      "execution_count": null,
      "metadata": {
        "id": "GrPq_tJy4TBE",
        "colab": {
          "base_uri": "https://localhost:8080/"
        },
        "outputId": "7a86b5b3-9c31-4917-992f-5161337306a5"
      },
      "outputs": [
        {
          "output_type": "stream",
          "name": "stdout",
          "text": [
            "Get Request For Post 1\n",
            "{'userId': 1, 'id': 1, 'title': 'sunt aut facere repellat provident occaecati excepturi optio reprehenderit', 'body': 'quia et suscipit\\nsuscipit recusandae consequuntur expedita et cum\\nreprehenderit molestiae ut ut quas totam\\nnostrum rerum est autem sunt rem eveniet architecto'}\n",
            "Status Code : 200\n",
            "Post Title : sunt aut facere repellat provident occaecati excepturi optio reprehenderit\n",
            "Get Request For Post 99\n",
            "{'userId': 10, 'id': 99, 'title': 'temporibus sit alias delectus eligendi possimus magni', 'body': 'quo deleniti praesentium dicta non quod\\naut est molestias\\nmolestias et officia quis nihil\\nitaque dolorem quia'}\n",
            "Status Code : 200\n",
            "Post Title : temporibus sit alias delectus eligendi possimus magni\n"
          ]
        },
        {
          "output_type": "execute_result",
          "data": {
            "text/plain": [
              "{'userId': 10,\n",
              " 'id': 99,\n",
              " 'title': 'temporibus sit alias delectus eligendi possimus magni',\n",
              " 'body': 'quo deleniti praesentium dicta non quod\\naut est molestias\\nmolestias et officia quis nihil\\nitaque dolorem quia'}"
            ]
          },
          "metadata": {},
          "execution_count": 3
        }
      ],
      "source": [
        "import requests\n",
        "import json\n",
        "\n",
        "Base_Url = \"https://jsonplaceholder.typicode.com\"\n",
        "\n",
        "def get_post(post_id):\n",
        "  try:\n",
        "    print(f\"Get Request For Post {post_id}\")\n",
        "    response = requests.get(f\"{Base_Url}/posts/{post_id}\")\n",
        "    print(response.json())\n",
        "\n",
        "    response.raise_for_status()\n",
        "    print(f\"Status Code : {response.status_code}\")\n",
        "    json_response = response.json()\n",
        "    print(f\"Post Title : {json_response.get(\"title\")}\")\n",
        "\n",
        "    return json_response\n",
        "\n",
        "  except requests.exceptions.RequestException as e:\n",
        "    print(f\"Error : {e}\")\n",
        "\n",
        "  except requests.exceptions.HTTPError as e:\n",
        "    print(f\"HTTP Error : {e}\")\n",
        "\n",
        "  except requests.exceptions.ConnectionError as e:\n",
        "    print(f\"Connection Error : {e}\")\n",
        "\n",
        "  except requests.exceptions.Timeout as e:\n",
        "    print(f\"Timeout Error : {e}\")\n",
        "\n",
        "\n",
        "  return None\n",
        "\n",
        "# To Test The Request\n",
        "get_post(1)\n",
        "get_post(99)\n"
      ]
    },
    {
      "cell_type": "code",
      "source": [
        "import requests\n",
        "import json\n",
        "\n",
        "Base_Url = \"https://jsonplaceholder.typicode.com\"\n",
        "\n",
        "def create_post(title,body,user_id):\n",
        "  payload = {\n",
        "      \"title\" : title,\n",
        "      \"body\" : body,\n",
        "      \"userId\" : user_id\n",
        "  }\n",
        "  print(f\"Post Request To /Post\")\n",
        "  headers = {\"Content-Type\" : \"application/json; charset=utf-8\"}\n",
        "  try:\n",
        "    response = requests.post(f\"{Base_Url}/posts\",headers=headers,data=json.dumps(payload))\n",
        "    print(response.json())\n",
        "    print(f\"Status Code : {response.status_code}\")\n",
        "    created_data = response.json()\n",
        "    print(f\"Created Post Title : {created_data.get('title')}\")\n",
        "    print(f\"Created Post Body : {created_data.get('body')}\")\n",
        "    print(f\"Created Post User Id : {created_data.get('userId')}\")\n",
        "\n",
        "    return created_data\n",
        "\n",
        "  except requests.exceptions.RequestException as e:\n",
        "    print(f\"Error : {e}\")\n",
        "  return None\n",
        "\n",
        "# To Test The Request\n",
        "create_post(\n",
        "    title=\"My New Post\",\n",
        "    body=\"Myself Saim hassan AKhtar\",\n",
        "    user_id=123\n",
        ")\n",
        "\n",
        "create_post(\n",
        "    title=\"My New Post 2\",\n",
        "    body=\"Myself Saim hassan AKhtar and I am AI Engineer\",\n",
        "    user_id=456\n",
        ")\n"
      ],
      "metadata": {
        "colab": {
          "base_uri": "https://localhost:8080/"
        },
        "id": "JwxjeP8EFZZR",
        "outputId": "eecd4d45-7e4e-46ce-c8f6-40a198ab12b7"
      },
      "execution_count": null,
      "outputs": [
        {
          "output_type": "stream",
          "name": "stdout",
          "text": [
            "Post Request To /Post\n",
            "{'title': 'My New Post', 'body': 'Myself Saim hassan AKhtar', 'userId': 123, 'id': 101}\n",
            "Status Code : 201\n",
            "Created Post Title : My New Post\n",
            "Created Post Body : Myself Saim hassan AKhtar\n",
            "Created Post User Id : 123\n",
            "Post Request To /Post\n",
            "{'title': 'My New Post 2', 'body': 'Myself Saim hassan AKhtar and I am AI Engineer', 'userId': 456, 'id': 101}\n",
            "Status Code : 201\n",
            "Created Post Title : My New Post 2\n",
            "Created Post Body : Myself Saim hassan AKhtar and I am AI Engineer\n",
            "Created Post User Id : 456\n"
          ]
        },
        {
          "output_type": "execute_result",
          "data": {
            "text/plain": [
              "{'title': 'My New Post 2',\n",
              " 'body': 'Myself Saim hassan AKhtar and I am AI Engineer',\n",
              " 'userId': 456,\n",
              " 'id': 101}"
            ]
          },
          "metadata": {},
          "execution_count": 6
        }
      ]
    }
  ]
}
