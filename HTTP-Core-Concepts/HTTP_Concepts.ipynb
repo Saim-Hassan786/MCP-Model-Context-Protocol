{
  "nbformat": 4,
  "nbformat_minor": 0,
  "metadata": {
    "colab": {
      "provenance": [],
      "authorship_tag": "ABX9TyOa4R6Gmnqg4dEjukjYf2rN",
      "include_colab_link": true
    },
    "kernelspec": {
      "name": "python3",
      "display_name": "Python 3"
    },
    "language_info": {
      "name": "python"
    }
  },
  "cells": [
    {
      "cell_type": "markdown",
      "metadata": {
        "id": "view-in-github",
        "colab_type": "text"
      },
      "source": [
        "<a href=\"https://colab.research.google.com/github/Saim-Hassan786/MCP-Model-Context-Protocol/blob/main/HTTP-Core-Concepts/HTTP_Concepts.ipynb\" target=\"_parent\"><img src=\"https://colab.research.google.com/assets/colab-badge.svg\" alt=\"Open In Colab\"/></a>"
      ]
    },
    {
      "cell_type": "markdown",
      "source": [
        "# **Http**\n",
        "**Http is defined as the protocol for tramsmitting the hypermedia documents such as HTML or a structured way of data exchange over the World Wide Web. In simple words, http can be regarded as a protocol by which computers communicate with each other over the internet , without http computers will be like staring at each other without being able to perform any communication**\n",
        "\n",
        "# Core Http Concepts\n",
        "\n",
        "**1. Http Request Respone Cycle**\n",
        "\n",
        "Http contain a request response cycle that works in the following way:\n",
        "\n",
        " - Client(Browser) initializes and establishes a connection with the server based on the http versions (TCP/IP for http versions 1.x and 2 and Quic/UDP connections for http versions 3) usually on port 80 for http and port 443 for https, this is likely to build a connection or a bridge through which data can be exchanged between client and server.\n",
        "\n",
        " - Client then sends an http request to the server in a defined protocol as follows:\n",
        "\n",
        "   - Http Method(Get,Post,etc) to be called on server\n",
        "   - Target URL\n",
        "   - Http Version\n",
        "   - Headers Containing extra info about the request\n",
        "   - Body(Optional) contains the data in case of a Post request from the client.\n",
        "\n",
        " - Server receives and process the request based on the server configurations and internal functions.\n",
        "\n",
        " - Server then sends the respone in the following format:\n",
        "   \n",
        "   - Http Version\n",
        "   - Status code indicating the outcome of the request (200 Ok , 404 Not Found)\n",
        "   - Reason phrase for the status code\n",
        "   - Headers Containing extra info about the request\n",
        "   - Body(Optional) contains the data or erro information\n",
        "\n",
        " - Client receives the response and processes it like rendering the webpage and display it to the user.\n",
        "\n",
        " - Based on the header/parameter set during connection establishment (Connection:keep-alive) , the connection between the client and server is broken or maintained for further requests.\n",
        "\n",
        "\n",
        "**2. Structure Of Http**\n",
        "\n",
        "The structure of http request-response is of following format:\n",
        "\n",
        "- Start-Line : For request (http method,http target URI,hhtp version) and For response (http version, status code, reason phrase)\n",
        "- Headers : Contains exter info about request-response like (Content-Type,Cache-Control)\n",
        "- Empty Line (CRLF) to separate Header from Body\n",
        "- Body containing the content sent and received\n",
        "\n",
        "**3. Http Methods**\n",
        "\n",
        " - Get : To get the representation of the resource\n",
        " - Post : To submit data to be processesed or create a new resource\n",
        " - Put : To replace the resource with the given one\n",
        " - Patch : To apply a modification in a resource\n",
        " - Delete : To delete a resource\n",
        " - Head : To get only headers of a resource not body\n",
        " - Options : To get the options of the methods that can be applied to a resource\n",
        "\n",
        " **4. Status Codes Of Http**\n",
        "\n",
        " - 1xx : Informational (received the request and continue the processing on it)\n",
        " - 2xx : Successful : Request received, processesed, and completed\n",
        " - 3xx : Redirection : Request needs extra action\n",
        " - 4xx : Client Error : Client Side error in request\n",
        " - 5xx : Server Error : Server Side error\n",
        "\n",
        "**5. Stateless Architecture**\n",
        "\n",
        "Http is stateless protocol means that each request-response occurs and the server does not remember previous requests from the client, each request is handled independently and server forgets the request after each response that makes it highly scalable.\n",
        "\n",
        "**6. Http Headers**\n",
        "\n",
        " - General Headers : These are applied to both request and response like Date , Connection etc\n",
        " - Request Headers : Contains extra info about the request like User-Agent, Accept etc\n",
        " - Response Headers : Contains extra info about the response like Content-Type, Server etc\n",
        " - Entity(Representational) Headers : Contains info about the payload body of the request like Content-length etc\n",
        "\n"
      ],
      "metadata": {
        "id": "eW9ax7WVbw-K"
      }
    },
    {
      "cell_type": "markdown",
      "source": [
        "# **Http Evolution**\n",
        "\n",
        "The evolution of http is one of the examples of improvements are made in any system that eradicates the limitations in any system gradually with each each update. The following shows the http evolution in the form of versions.\n",
        "\n",
        "**1. Http Version 0.9**\n",
        "   \n",
        "   It is the first and the most simplest version of http that contains a simple Get Request and gets the resource representation and breaks the connection has no headers, methods or anything.\n",
        "\n",
        "\n",
        "**2. Http Version 1.0 **\n",
        "\n",
        "It tackled the limitations of the previous versions and added headers, multiple methods to interact with the server but the limitation is the Tcp connection is broken after every request and for new request a new connection has be made each time that resulted in latency\n",
        "\n",
        "**3. Http Version 1.1**\n",
        "\n",
        "It is the most widely used protocol version and solved the biggest limitation by introducing (Connection:Keep-Alive) that enables the multiple requests to be sent to be server by a single connection that revolutionized everything but the limitation is that server can sent back response in order it received the request one by one that resulted in the (Head of Line) HOL Blocking and caused latency.\n",
        "\n",
        "**4. Http Version 2.0**\n",
        "\n",
        "It solve the Head Of Line HOL Blocking problem by enabling the server to sent multiple response without blocking each other same like the response but the it is done on the TCP connection in which if a data in one stream response is lost it blocks all the other streams until that data package is retrieved\n",
        "\n",
        "**5. Http Version 3.0**\n",
        "\n",
        "It is the most latet version that it used another Quic(Quick UDP Internet Connections) for connection that uses UDP(User Datagram protocol) that sends data in the form of packets independent of the others and if a packet in one stream is lost only that stream is affected not all the others they will keep going.\n"
      ],
      "metadata": {
        "id": "JBKcHNcqxF-7"
      }
    },
    {
      "cell_type": "markdown",
      "source": [
        "#**HTTP With Security**\n",
        "\n",
        "Http itself is just a hypermedia transfer protocol it does not have any in-built security features that can make it resistant to the hacker attacks so to implement security in it we have to provide it with a security layer termed as TLS(Transport Layer Security) that provide it with a alot of security features that makes the exchange of data between client and server safe."
      ],
      "metadata": {
        "id": "kp3hfR-a3h5d"
      }
    },
    {
      "cell_type": "markdown",
      "source": [
        "# **Direct Method To Send An HTTP Request Using The \"curl\" Keyword**"
      ],
      "metadata": {
        "id": "OZzug3NoHpak"
      }
    },
    {
      "cell_type": "code",
      "execution_count": null,
      "metadata": {
        "id": "pxeJhB6gZAUV",
        "colab": {
          "base_uri": "https://localhost:8080/"
        },
        "outputId": "43825566-2498-4414-99a3-4ad064e9387f"
      },
      "outputs": [
        {
          "output_type": "stream",
          "name": "stdout",
          "text": [
            "<!doctype html>\n",
            "<html>\n",
            "<head>\n",
            "    <title>Example Domain</title>\n",
            "\n",
            "    <meta charset=\"utf-8\" />\n",
            "    <meta http-equiv=\"Content-type\" content=\"text/html; charset=utf-8\" />\n",
            "    <meta name=\"viewport\" content=\"width=device-width, initial-scale=1\" />\n",
            "    <style type=\"text/css\">\n",
            "    body {\n",
            "        background-color: #f0f0f2;\n",
            "        margin: 0;\n",
            "        padding: 0;\n",
            "        font-family: -apple-system, system-ui, BlinkMacSystemFont, \"Segoe UI\", \"Open Sans\", \"Helvetica Neue\", Helvetica, Arial, sans-serif;\n",
            "        \n",
            "    }\n",
            "    div {\n",
            "        width: 600px;\n",
            "        margin: 5em auto;\n",
            "        padding: 2em;\n",
            "        background-color: #fdfdff;\n",
            "        border-radius: 0.5em;\n",
            "        box-shadow: 2px 3px 7px 2px rgba(0,0,0,0.02);\n",
            "    }\n",
            "    a:link, a:visited {\n",
            "        color: #38488f;\n",
            "        text-decoration: none;\n",
            "    }\n",
            "    @media (max-width: 700px) {\n",
            "        div {\n",
            "            margin: 0 auto;\n",
            "            width: auto;\n",
            "        }\n",
            "    }\n",
            "    </style>    \n",
            "</head>\n",
            "\n",
            "<body>\n",
            "<div>\n",
            "    <h1>Example Domain</h1>\n",
            "    <p>This domain is for use in illustrative examples in documents. You may use this\n",
            "    domain in literature without prior coordination or asking for permission.</p>\n",
            "    <p><a href=\"https://www.iana.org/domains/example\">More information...</a></p>\n",
            "</div>\n",
            "</body>\n",
            "</html>\n"
          ]
        }
      ],
      "source": [
        "! curl https://example.com/"
      ]
    },
    {
      "cell_type": "code",
      "source": [
        "! curl https://reqres.in/api/users?page=2 \\\n",
        " -H \"x-api-key: reqres-free-v1\" \\"
      ],
      "metadata": {
        "colab": {
          "base_uri": "https://localhost:8080/"
        },
        "id": "q5FZKMagG9Mj",
        "outputId": "fbfb2d5d-a870-4215-902b-42e1204886b4"
      },
      "execution_count": null,
      "outputs": [
        {
          "output_type": "stream",
          "name": "stdout",
          "text": [
            "{\"page\":2,\"per_page\":6,\"total\":12,\"total_pages\":2,\"data\":[{\"id\":7,\"email\":\"michael.lawson@reqres.in\",\"first_name\":\"Michael\",\"last_name\":\"Lawson\",\"avatar\":\"https://reqres.in/img/faces/7-image.jpg\"},{\"id\":8,\"email\":\"lindsay.ferguson@reqres.in\",\"first_name\":\"Lindsay\",\"last_name\":\"Ferguson\",\"avatar\":\"https://reqres.in/img/faces/8-image.jpg\"},{\"id\":9,\"email\":\"tobias.funke@reqres.in\",\"first_name\":\"Tobias\",\"last_name\":\"Funke\",\"avatar\":\"https://reqres.in/img/faces/9-image.jpg\"},{\"id\":10,\"email\":\"byron.fields@reqres.in\",\"first_name\":\"Byron\",\"last_name\":\"Fields\",\"avatar\":\"https://reqres.in/img/faces/10-image.jpg\"},{\"id\":11,\"email\":\"george.edwards@reqres.in\",\"first_name\":\"George\",\"last_name\":\"Edwards\",\"avatar\":\"https://reqres.in/img/faces/11-image.jpg\"},{\"id\":12,\"email\":\"rachel.howell@reqres.in\",\"first_name\":\"Rachel\",\"last_name\":\"Howell\",\"avatar\":\"https://reqres.in/img/faces/12-image.jpg\"}],\"support\":{\"url\":\"https://contentcaddy.io?utm_source=reqres&utm_medium=json&utm_campaign=referral\",\"text\":\"Tired of writing endless social media content? Let Content Caddy generate it for you.\"}}curl: (6) Could not resolve host: \\\n"
          ]
        }
      ]
    },
    {
      "cell_type": "markdown",
      "source": [
        "# **HTTP Request Using \"requests\" Package**"
      ],
      "metadata": {
        "id": "Dr8w4ve7IJTH"
      }
    },
    {
      "cell_type": "code",
      "source": [
        "url = \"https://example.com/\"\n",
        "import requests\n",
        "\n",
        "headers = {\n",
        "    \"Content-Type\" : \"text/html\"\n",
        "}\n",
        "\n",
        "response =  requests.get(url=url,headers=headers)\n",
        "print(\"Status Code:\", response.status_code)\n",
        "print(\"Response:\" , response.text)"
      ],
      "metadata": {
        "colab": {
          "base_uri": "https://localhost:8080/"
        },
        "id": "e4ewshgMHnWC",
        "outputId": "452c91ca-70d6-4a67-f56b-9bf9c60bf57d"
      },
      "execution_count": null,
      "outputs": [
        {
          "output_type": "stream",
          "name": "stdout",
          "text": [
            "Status Code: 200\n",
            "Response: <!doctype html>\n",
            "<html>\n",
            "<head>\n",
            "    <title>Example Domain</title>\n",
            "\n",
            "    <meta charset=\"utf-8\" />\n",
            "    <meta http-equiv=\"Content-type\" content=\"text/html; charset=utf-8\" />\n",
            "    <meta name=\"viewport\" content=\"width=device-width, initial-scale=1\" />\n",
            "    <style type=\"text/css\">\n",
            "    body {\n",
            "        background-color: #f0f0f2;\n",
            "        margin: 0;\n",
            "        padding: 0;\n",
            "        font-family: -apple-system, system-ui, BlinkMacSystemFont, \"Segoe UI\", \"Open Sans\", \"Helvetica Neue\", Helvetica, Arial, sans-serif;\n",
            "        \n",
            "    }\n",
            "    div {\n",
            "        width: 600px;\n",
            "        margin: 5em auto;\n",
            "        padding: 2em;\n",
            "        background-color: #fdfdff;\n",
            "        border-radius: 0.5em;\n",
            "        box-shadow: 2px 3px 7px 2px rgba(0,0,0,0.02);\n",
            "    }\n",
            "    a:link, a:visited {\n",
            "        color: #38488f;\n",
            "        text-decoration: none;\n",
            "    }\n",
            "    @media (max-width: 700px) {\n",
            "        div {\n",
            "            margin: 0 auto;\n",
            "            width: auto;\n",
            "        }\n",
            "    }\n",
            "    </style>    \n",
            "</head>\n",
            "\n",
            "<body>\n",
            "<div>\n",
            "    <h1>Example Domain</h1>\n",
            "    <p>This domain is for use in illustrative examples in documents. You may use this\n",
            "    domain in literature without prior coordination or asking for permission.</p>\n",
            "    <p><a href=\"https://www.iana.org/domains/example\">More information...</a></p>\n",
            "</div>\n",
            "</body>\n",
            "</html>\n",
            "\n"
          ]
        }
      ]
    },
    {
      "cell_type": "code",
      "source": [
        "url = \"https://reqres.in/api/users/2\"\n",
        "\n",
        "import requests\n",
        "\n",
        "headers = {\n",
        "    \"x-api-key\" : \"reqres-free-v1\",\n",
        "    \"Content-Type\" : \"application/json\"\n",
        "}\n",
        "\n",
        "response = requests.get(url=url,headers=headers)\n",
        "print(\"Status Code:\", response.status_code)\n",
        "print(\"Response:\" , response.json())"
      ],
      "metadata": {
        "colab": {
          "base_uri": "https://localhost:8080/"
        },
        "id": "RDuelUUNI8WV",
        "outputId": "5fb04082-4b18-41c4-b07a-fb2ee3159274"
      },
      "execution_count": null,
      "outputs": [
        {
          "output_type": "stream",
          "name": "stdout",
          "text": [
            "Status Code: 200\n",
            "Response: {'data': {'id': 2, 'email': 'janet.weaver@reqres.in', 'first_name': 'Janet', 'last_name': 'Weaver', 'avatar': 'https://reqres.in/img/faces/2-image.jpg'}, 'support': {'url': 'https://contentcaddy.io?utm_source=reqres&utm_medium=json&utm_campaign=referral', 'text': 'Tired of writing endless social media content? Let Content Caddy generate it for you.'}}\n"
          ]
        }
      ]
    },
    {
      "cell_type": "code",
      "source": [
        "url = \"https://reqres.in/api/users/2\"\n",
        "\n",
        "import requests\n",
        "\n",
        "headers = {\n",
        "    \"x-api-key\" : \"reqres-free-v1\",\n",
        "    \"Content-Type\" : \"application/json\"\n",
        "}\n",
        "\n",
        "body = {\n",
        "    \"name\":\"saim\",\"job\":\"software engineer\"\n",
        "}\n",
        "\n",
        "response = requests.post(url=url,headers=headers,json=body)\n",
        "print(\"Status Code:\", response.status_code)\n",
        "print(\"Response:\" , response.json())"
      ],
      "metadata": {
        "colab": {
          "base_uri": "https://localhost:8080/"
        },
        "id": "mqDWt0PlKGiD",
        "outputId": "a20b1baa-6d5f-4396-c37f-4a9a8f45ff10"
      },
      "execution_count": null,
      "outputs": [
        {
          "output_type": "stream",
          "name": "stdout",
          "text": [
            "Status Code: 201\n",
            "Response: {'name': 'saim', 'job': 'software engineer', 'id': '373', 'createdAt': '2025-09-13T13:02:36.278Z'}\n"
          ]
        }
      ]
    },
    {
      "cell_type": "code",
      "source": [
        "url = \"https://reqres.in/api/users/2\"\n",
        "\n",
        "import requests\n",
        "\n",
        "headers = {\n",
        "    \"x-api-key\" : \"reqres-free-v1\",\n",
        "    \"Content-Type\" : \"application/json\"\n",
        "}\n",
        "\n",
        "body = {\n",
        "    \"name\":\"saim\",\"job\":\"software engineer\"\n",
        "}\n",
        "\n",
        "response = requests.put(url=url,headers=headers,json=body)\n",
        "print(\"Status Code:\", response.status_code)\n",
        "print(\"Response:\" , response.json())"
      ],
      "metadata": {
        "colab": {
          "base_uri": "https://localhost:8080/"
        },
        "id": "OLfRB7J2K52A",
        "outputId": "d83b2187-274f-4852-df6e-b0724cdda7cf"
      },
      "execution_count": null,
      "outputs": [
        {
          "output_type": "stream",
          "name": "stdout",
          "text": [
            "Status Code: 200\n",
            "Response: {'name': 'saim', 'job': 'software engineer', 'updatedAt': '2025-09-13T13:04:30.003Z'}\n"
          ]
        }
      ]
    },
    {
      "cell_type": "code",
      "source": [
        "url = \"https://reqres.in/api/users/2\"\n",
        "\n",
        "import requests\n",
        "\n",
        "headers = {\n",
        "    \"x-api-key\" : \"reqres-free-v1\",\n",
        "    \"Content-Type\" : \"application/json\"\n",
        "}\n",
        "\n",
        "body = {\n",
        "    \"name\":\"saim\",\"job\":\"AI engineer\"\n",
        "}\n",
        "\n",
        "response = requests.patch(url=url,headers=headers,json=body)\n",
        "print(\"Status Code:\", response.status_code)\n",
        "print(\"Response:\" , response.json())"
      ],
      "metadata": {
        "colab": {
          "base_uri": "https://localhost:8080/"
        },
        "id": "W73rc1brLVmw",
        "outputId": "df9135ad-deed-47d1-98d2-a3504a12ed2a"
      },
      "execution_count": null,
      "outputs": [
        {
          "output_type": "stream",
          "name": "stdout",
          "text": [
            "Status Code: 200\n",
            "Response: {'name': 'saim', 'job': 'AI engineer', 'updatedAt': '2025-09-13T13:05:07.841Z'}\n"
          ]
        }
      ]
    },
    {
      "cell_type": "code",
      "source": [
        "url = \"https://reqres.in/api/users/2\"\n",
        "\n",
        "import requests\n",
        "\n",
        "headers = {\n",
        "    \"x-api-key\" : \"reqres-free-v1\",\n",
        "    \"Content-Type\" : \"application/json\"\n",
        "}\n",
        "\n",
        "body = {\n",
        "    \"name\":\"saim\",\"job\":\"software engineer\"\n",
        "}\n",
        "\n",
        "response = requests.head(url=url,headers=headers,json=body)\n",
        "print(\"Status Code:\", response.status_code)\n",
        "print(\"Response:\" , response.headers)"
      ],
      "metadata": {
        "colab": {
          "base_uri": "https://localhost:8080/"
        },
        "id": "k-6lgF0cLe1f",
        "outputId": "77e83945-8be3-4b27-a191-47fbf6369219"
      },
      "execution_count": null,
      "outputs": [
        {
          "output_type": "stream",
          "name": "stdout",
          "text": [
            "Status Code: 200\n",
            "Response: {'Date': 'Sat, 13 Sep 2025 13:07:39 GMT', 'Content-Type': 'application/json; charset=utf-8', 'Connection': 'keep-alive', 'Content-Encoding': 'br', 'Access-Control-Allow-Credentials': 'true', 'Access-Control-Allow-Headers': 'Origin, X-Requested-With, Content-Type, Accept, Authorization, x-api-key', 'Access-Control-Allow-Methods': 'GET, POST, PUT, DELETE, OPTIONS', 'Access-Control-Allow-Origin': 'http://localhost:5173', 'Etag': 'W/\"152-ApQgGHL6RKwaebFlrPCYPBO1xHg\"', 'Nel': '{\"report_to\":\"heroku-nel\",\"response_headers\":[\"Via\"],\"max_age\":3600,\"success_fraction\":0.01,\"failure_fraction\":0.1}', 'Ratelimit-Limit': '100', 'Ratelimit-Policy': '100;w=60', 'Ratelimit-Remaining': '98', 'Ratelimit-Reset': '60', 'Referrer-Policy': 'strict-origin-when-cross-origin', 'Report-To': '{\"group\":\"heroku-nel\",\"endpoints\":[{\"url\":\"https://nel.heroku.com/reports?s=k3KURBz8hmJSUuTKEbyBvCL46u46BVMetl6KoXpocl8%3D\\\\u0026sid=c4c9725f-1ab0-44d8-820f-430df2718e11\\\\u0026ts=1757768346\"}],\"max_age\":3600}', 'Reporting-Endpoints': 'heroku-nel=\"https://nel.heroku.com/reports?s=k3KURBz8hmJSUuTKEbyBvCL46u46BVMetl6KoXpocl8%3D&sid=c4c9725f-1ab0-44d8-820f-430df2718e11&ts=1757768346\"', 'Vary': 'Origin, Accept-Encoding', 'Via': '1.1 heroku-router', 'X-Content-Type-Options': 'nosniff', 'X-Frame-Options': 'DENY', 'X-Request-Id': '2b9d4174-1f62-9b82-ff40-4b042a4b92ed', 'X-Xss-Protection': '1; mode=block', 'Age': '513', 'Cache-Control': 'max-age=14400', 'cf-cache-status': 'HIT', 'Server': 'cloudflare', 'CF-RAY': '97e7de6a9b5653b6-ATL', 'server-timing': 'cfL4;desc=\"?proto=TCP&rtt=10862&min_rtt=10659&rtt_var=4142&sent=4&recv=7&lost=0&retrans=0&sent_bytes=2832&recv_bytes=926&delivery_rate=271695&cwnd=37&unsent_bytes=0&cid=7db89c45874240f3&ts=48&x=0\"'}\n"
          ]
        }
      ]
    },
    {
      "cell_type": "code",
      "source": [
        "url = \"https://reqres.in/api/users/2\"\n",
        "\n",
        "import requests\n",
        "\n",
        "headers = {\n",
        "    \"x-api-key\" : \"reqres-free-v1\",\n",
        "    \"Content-Type\" : \"application/json\"\n",
        "}\n",
        "\n",
        "body = {\n",
        "    \"name\":\"saim\",\"job\":\"software engineer\"\n",
        "}\n",
        "\n",
        "response = requests.options(url=url,headers=headers,json=body)\n",
        "print(\"Status Code:\", response.status_code)\n",
        "print(\"Response:\" , response)"
      ],
      "metadata": {
        "colab": {
          "base_uri": "https://localhost:8080/"
        },
        "id": "zNeaqqowLkIQ",
        "outputId": "d70b032a-cfa4-4c4c-957b-fb4b7b5eea16"
      },
      "execution_count": null,
      "outputs": [
        {
          "output_type": "stream",
          "name": "stdout",
          "text": [
            "Status Code: 204\n",
            "Response: <Response [204]>\n"
          ]
        }
      ]
    }
  ]
}